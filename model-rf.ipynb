{
  "cells": [
    {
      "cell_type": "markdown",
      "metadata": {
        "id": "CfWdMCvXw7vL"
      },
      "source": [
        "## 1.Environment Setup"
      ]
    },
    {
      "cell_type": "code",
      "execution_count": null,
      "metadata": {
        "id": "RuIFAMhRxEy0"
      },
      "outputs": [],
      "source": [
        "# Import thư viện cần thiết\n",
        "import os\n",
        "import random\n",
        "import warnings\n",
        "import numpy as np\n",
        "import pandas as pd\n",
        "import seaborn as sns\n",
        "import matplotlib.pyplot as plt\n",
        "\n",
        "from xgboost import XGBClassifier\n",
        "from sklearn.tree import DecisionTreeClassifier\n",
        "from sklearn.ensemble import AdaBoostClassifier\n",
        "from sklearn.ensemble import RandomForestClassifier\n",
        "from sklearn.ensemble import GradientBoostingClassifier\n",
        "from sklearn.metrics import accuracy_score, classification_report\n",
        "from sklearn.model_selection import StratifiedKFold, cross_val_score\n",
        "\n",
        "warnings.filterwarnings('ignore')\n",
        "\n",
        "# Đặt seed để đảm bảo kết quả nhất quán giữa các lần chạy\n",
        "SEED = 42\n",
        "os.environ[\"PYTHONHASHSEED\"] = str(SEED)\n",
        "np.random.seed(SEED)\n",
        "random.seed(SEED)\n",
        "print(f\"Seed: {SEED}\")"
      ]
    },
    {
      "cell_type": "markdown",
      "metadata": {
        "id": "Pj3YcYfqx0fO"
      },
      "source": [
        "## 2.Data Processing"
      ]
    },
    {
      "cell_type": "code",
      "execution_count": null,
      "metadata": {
        "id": "qvmgAX6EH2Ui"
      },
      "outputs": [],
      "source": [
        "def read_csv(file_path):\n",
        "    df = pd.read_csv(file_path)\n",
        "    display(df.head())\n",
        "\n",
        "    X = df.drop('target', axis=1)\n",
        "    y = df['target']\n",
        "    display(y.value_counts())\n",
        "\n",
        "    print(\"Shape df: \", df.shape)\n",
        "    print(\"Shape X: \", X.shape)\n",
        "    print(\"Shape y: \", y.shape)\n",
        "\n",
        "    return X, y"
      ]
    },
    {
      "cell_type": "markdown",
      "metadata": {
        "id": "GvfTDDbWFSpq"
      },
      "source": [
        "### 2.1 Original Dataset"
      ]
    },
    {
      "cell_type": "code",
      "execution_count": null,
      "metadata": {
        "id": "NryFLD27F7gO"
      },
      "outputs": [],
      "source": [
        "X_train, y_train = read_csv('splits/raw_train.csv')\n",
        "X_val, y_val = read_csv('splits/raw_val.csv')\n",
        "X_test, y_test = read_csv('splits/raw_test.csv')"
      ]
    },
    {
      "cell_type": "markdown",
      "metadata": {
        "id": "OeKNFx4kvKQN"
      },
      "source": [
        "### 2.2 FE Dataset"
      ]
    },
    {
      "cell_type": "code",
      "execution_count": null,
      "metadata": {
        "id": "vNt4zdxqGxXI"
      },
      "outputs": [],
      "source": [
        "X_fe_train, y_fe_train = read_csv('splits/fe_train.csv')\n",
        "X_fe_val, y_fe_val = read_csv('splits/fe_val.csv')\n",
        "X_fe_test, y_fe_test = read_csv('splits/fe_test.csv')"
      ]
    },
    {
      "cell_type": "markdown",
      "metadata": {
        "id": "8nQRZWPdvZMe"
      },
      "source": [
        "### 2.3 Original + DT Dataset"
      ]
    },
    {
      "cell_type": "code",
      "execution_count": null,
      "metadata": {
        "id": "7UX46cMbGzci"
      },
      "outputs": [],
      "source": [
        "X_dt_train, y_dt_train = read_csv('splits/dt_train.csv')\n",
        "X_dt_val, y_dt_val = read_csv('splits/dt_val.csv')\n",
        "X_dt_test, y_dt_test = read_csv('splits/dt_test.csv')"
      ]
    },
    {
      "cell_type": "markdown",
      "metadata": {
        "id": "EMwUSQdLFWlM"
      },
      "source": [
        "### 2.4 FE + DT Dataset"
      ]
    },
    {
      "cell_type": "code",
      "execution_count": null,
      "metadata": {
        "id": "SvaktUNcIUZQ"
      },
      "outputs": [],
      "source": [
        "X_fe_dt_train, y_fe_dt_train = read_csv('splits/fe_dt_train.csv')\n",
        "X_fe_dt_val, y_fe_dt_val = read_csv('splits/fe_dt_val.csv')\n",
        "X_fe_dt_test, y_fe_dt_test = read_csv('splits/fe_dt_test.csv')"
      ]
    },
    {
      "cell_type": "markdown",
      "metadata": {
        "id": "rV3IxdUN0-m5"
      },
      "source": [
        "## 3.RF"
      ]
    },
    {
      "cell_type": "code",
      "execution_count": null,
      "metadata": {
        "id": "54WZ_E-0H4sP"
      },
      "outputs": [],
      "source": [
        "def find_optimal_rf(\n",
        "    X_train,\n",
        "    y_train,\n",
        "    n_estimators_range=range(50, 501, 50),\n",
        "    cv_splits=3,\n",
        "    max_depth=5,\n",
        "    min_samples_split=2,\n",
        "    min_samples_leaf=1,\n",
        "    max_features='sqrt',\n",
        "    bootstrap=True,\n",
        "    class_weight=None\n",
        "):\n",
        "    cv = StratifiedKFold(n_splits=cv_splits, shuffle=True, random_state=SEED)\n",
        "    scores = []\n",
        "\n",
        "    for n in n_estimators_range:\n",
        "        rf = RandomForestClassifier(\n",
        "            n_estimators=n,\n",
        "            max_depth=max_depth,\n",
        "            min_samples_split=min_samples_split,\n",
        "            min_samples_leaf=min_samples_leaf,\n",
        "            max_features=max_features,\n",
        "            bootstrap=bootstrap,\n",
        "            class_weight=class_weight,\n",
        "            n_jobs=-1,\n",
        "            random_state=SEED\n",
        "        )\n",
        "        cv_score = cross_val_score(rf, X_train, y_train, cv=cv, scoring='accuracy', n_jobs=-1)\n",
        "        scores.append(cv_score.mean())\n",
        "\n",
        "    plt.figure(figsize=(10, 6))\n",
        "    plt.plot(list(n_estimators_range), scores, 'bo-')\n",
        "    plt.title(f'Chọn n_estimators tối ưu cho Random Forest (CV={cv_splits}-fold)')\n",
        "    plt.xlabel('n_estimators')\n",
        "    plt.ylabel('Cross-Validation Accuracy')\n",
        "    plt.grid(True)\n",
        "    plt.show()\n",
        "\n",
        "    best_n = list(n_estimators_range)[int(np.argmax(scores))]\n",
        "    print(f'n_estimators tối ưu (CV): {best_n}')\n",
        "\n",
        "    best_model = RandomForestClassifier(\n",
        "        n_estimators=best_n,\n",
        "        max_depth=max_depth,\n",
        "        min_samples_split=min_samples_split,\n",
        "        min_samples_leaf=min_samples_leaf,\n",
        "        max_features=max_features,\n",
        "        bootstrap=bootstrap,\n",
        "        class_weight=class_weight,\n",
        "        n_jobs=-1,\n",
        "        random_state=SEED\n",
        "    )\n",
        "\n",
        "    best_model.fit(X_train, y_train)\n",
        "    return best_model, best_n, max(scores)\n",
        "\n",
        "def evaluate_val_rf(\n",
        "    X_train,\n",
        "    y_train,\n",
        "    X_val,\n",
        "    y_val,\n",
        "    n_estimators_range=range(50, 501, 50),\n",
        "    cv_splits=5,\n",
        "    max_depth=5,\n",
        "    min_samples_split=2,\n",
        "    min_samples_leaf=1,\n",
        "    max_features='sqrt',\n",
        "    bootstrap=True,\n",
        "    class_weight=None\n",
        "):\n",
        "    print('Tìm n_estimators tối ưu cho Random Forest...')\n",
        "\n",
        "    rf_model, best_n, cv_acc = find_optimal_rf(\n",
        "        X_train,\n",
        "        y_train,\n",
        "        n_estimators_range=n_estimators_range,\n",
        "        cv_splits=cv_splits,\n",
        "        max_depth=max_depth,\n",
        "        min_samples_split=min_samples_split,\n",
        "        min_samples_leaf=min_samples_leaf,\n",
        "        max_features=max_features,\n",
        "        bootstrap=bootstrap,\n",
        "        class_weight=class_weight\n",
        "    )\n",
        "\n",
        "    val_pred = rf_model.predict(X_val)\n",
        "    val_acc = accuracy_score(y_val, val_pred)\n",
        "\n",
        "    print(f'\\nĐộ chính xác Random Forest trên tập validation: {val_acc:.4f}')\n",
        "    print('Classification Report:')\n",
        "    print(classification_report(y_val, val_pred))\n",
        "\n",
        "    return rf_model, val_acc, {'n_estimators': best_n}\n",
        "\n",
        "\n",
        "def evaluate_test_rf(rf_model, X_test, y_test):\n",
        "    test_pred = rf_model.predict(X_test)\n",
        "    test_acc = accuracy_score(y_test, test_pred)\n",
        "\n",
        "    print(f'\\nĐộ chính xác Random Forest trên tập test: {test_acc:.4f}')\n",
        "    print('Classification Report:')\n",
        "    print(classification_report(y_test, test_pred))\n",
        "\n",
        "    return test_acc\n"
      ]
    },
    {
      "cell_type": "markdown",
      "metadata": {
        "id": "WFC6bI3sNLb2"
      },
      "source": [
        "### 3.1 RF on Original Dataset"
      ]
    },
    {
      "cell_type": "code",
      "execution_count": null,
      "metadata": {
        "id": "hbxm-NrD1P14"
      },
      "outputs": [],
      "source": [
        "rf_model, val_acc, best_params = evaluate_val_rf(X_train, y_train, X_val, y_val)\n",
        "test_acc = evaluate_test_rf(rf_model, X_test, y_test)"
      ]
    },
    {
      "cell_type": "markdown",
      "metadata": {
        "id": "ekrEdFnrNR2u"
      },
      "source": [
        "### 3.2 RF on FE Dataset"
      ]
    },
    {
      "cell_type": "code",
      "execution_count": null,
      "metadata": {
        "id": "Ym2x_HANNXd9"
      },
      "outputs": [],
      "source": [
        "rf_model, val_fe_acc, best_params = evaluate_val_rf(X_fe_train, y_fe_train, X_fe_val, y_fe_val)\n",
        "\n",
        "test_fe_acc = evaluate_test_rf(rf_model, X_fe_test, y_fe_test)"
      ]
    },
    {
      "cell_type": "markdown",
      "metadata": {
        "id": "3OOUBDcG0UAj"
      },
      "source": [
        "### 3.3 RF on Original DT Dataset"
      ]
    },
    {
      "cell_type": "code",
      "execution_count": null,
      "metadata": {
        "id": "04bzy0Ck0UAj"
      },
      "outputs": [],
      "source": [
        "rf_model, val_dt_acc, best_params = evaluate_val_rf(X_dt_train, y_dt_train, X_dt_val, y_dt_val)\n",
        "\n",
        "test_dt_acc = evaluate_test_rf(rf_model, X_dt_test, y_dt_test)"
      ]
    },
    {
      "cell_type": "markdown",
      "metadata": {
        "id": "Ac1YrzmK2_xZ"
      },
      "source": [
        "### 3.4 RF on FE + DT Dataset"
      ]
    },
    {
      "cell_type": "code",
      "execution_count": null,
      "metadata": {
        "id": "ls1mbY4L2_xZ"
      },
      "outputs": [],
      "source": [
        "rf_model, val_fe_dt_acc, best_params = evaluate_val_rf(X_fe_dt_train, y_fe_dt_train, X_fe_dt_val, y_fe_dt_val)\n",
        "\n",
        "test_fe_dt_acc = evaluate_test_rf(rf_model, X_fe_dt_test, y_fe_dt_test) "
      ]
    },
    {
      "cell_type": "markdown",
      "metadata": {
        "id": "9Yz66V0ZOiYA"
      },
      "source": [
        "## 4.Result Visualization"
      ]
    },
    {
      "cell_type": "code",
      "execution_count": null,
      "metadata": {
        "id": "Ko31Zp2tKPmP"
      },
      "outputs": [],
      "source": [
        "plt.rcParams['font.family'] = 'Serif'\n",
        "\n",
        "labels = ['Original', 'FE', 'Original + DT', \"FE + DT\"]\n",
        "val_accs = [val_acc, val_fe_acc, val_dt_acc, val_fe_dt_acc]\n",
        "test_accs = [test_acc, test_fe_acc, test_dt_acc, test_fe_dt_acc]\n",
        "\n",
        "x = np.arange(len(labels))\n",
        "width = 0.3\n",
        "\n",
        "fig, ax = plt.subplots(figsize=(5, 5))\n",
        "\n",
        "rects1 = ax.bar(x - width/2, val_accs,  width,\n",
        "                label='Validation Accuracy',\n",
        "                color='tab:blue', edgecolor='black', linewidth=1.2)\n",
        "rects2 = ax.bar(x + width/2, test_accs, width,\n",
        "                label='Test Accuracy',\n",
        "                color='tab:red', edgecolor='black', linewidth=1.2)\n",
        "\n",
        "ax.set_ylim(0.5, 1.05)\n",
        "ax.set_ylabel('Accuracy')\n",
        "ax.set_title('Random Forest', fontsize=16)\n",
        "ax.set_xticks(x)\n",
        "ax.set_xticklabels(labels)\n",
        "ax.legend(ncol=2, loc=\"upper center\")\n",
        "\n",
        "def autolabel(rects):\n",
        "    for rect in rects:\n",
        "        h = rect.get_height()\n",
        "        ax.annotate(f'{h:.2f}', xy=(rect.get_x()+rect.get_width()/2, h),\n",
        "                    ha='center', va='bottom')\n",
        "\n",
        "autolabel(rects1)\n",
        "autolabel(rects2)\n",
        "\n",
        "fig.tight_layout()\n",
        "plt.show()\n"
      ]
    }
  ],
  "metadata": {
    "colab": {
      "provenance": []
    },
    "kernelspec": {
      "display_name": ".venv (3.13.1)",
      "language": "python",
      "name": "python3"
    },
    "language_info": {
      "codemirror_mode": {
        "name": "ipython",
        "version": 3
      },
      "file_extension": ".py",
      "mimetype": "text/x-python",
      "name": "python",
      "nbconvert_exporter": "python",
      "pygments_lexer": "ipython3",
      "version": "3.13.1"
    }
  },
  "nbformat": 4,
  "nbformat_minor": 0
}
