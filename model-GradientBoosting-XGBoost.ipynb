{
 "cells": [
  {
   "cell_type": "markdown",
   "metadata": {
    "id": "j7UXL7C7tm5H"
   },
   "source": [
    "# 1.Environment Setup"
   ]
  },
  {
   "cell_type": "code",
   "execution_count": null,
   "metadata": {
    "id": "jTyXpM1ItX5G"
   },
   "outputs": [],
   "source": [
    "# Import thư viện cần thiết\n",
    "import os\n",
    "import random\n",
    "import warnings\n",
    "import numpy as np\n",
    "import pandas as pd\n",
    "import seaborn as sns\n",
    "import matplotlib.pyplot as plt\n",
    "\n",
    "from xgboost import XGBClassifier\n",
    "from sklearn.tree import DecisionTreeClassifier\n",
    "from sklearn.ensemble import AdaBoostClassifier\n",
    "from sklearn.ensemble import RandomForestClassifier\n",
    "from sklearn.ensemble import GradientBoostingClassifier\n",
    "from sklearn.metrics import accuracy_score, classification_report\n",
    "from sklearn.model_selection import StratifiedKFold, cross_val_score\n",
    "\n",
    "warnings.filterwarnings('ignore')"
   ]
  },
  {
   "cell_type": "code",
   "execution_count": null,
   "metadata": {
    "colab": {
     "base_uri": "https://localhost:8080/"
    },
    "id": "HR5UwNRItgBZ",
    "outputId": "40a7b529-db62-43e1-e8c3-43ff4ed9b218"
   },
   "outputs": [],
   "source": [
    "# Đặt seed để đảm bảo kết quả nhất quán giữa các lần chạy\n",
    "SEED = 42\n",
    "os.environ[\"PYTHONHASHSEED\"] = str(SEED)\n",
    "np.random.seed(SEED)\n",
    "random.seed(SEED)\n",
    "print(f\"Seed: {SEED}\")"
   ]
  },
  {
   "cell_type": "markdown",
   "metadata": {
    "id": "TvnAAnBLtwvK"
   },
   "source": [
    "# 2.Data Processing"
   ]
  },
  {
   "cell_type": "code",
   "execution_count": null,
   "metadata": {
    "colab": {
     "base_uri": "https://localhost:8080/"
    },
    "id": "bmPH6li8uRmk",
    "outputId": "5cb0ead7-f79c-4748-db3b-f02e2670ec3e"
   },
   "outputs": [],
   "source": [
    "def read_csv(file_path):\n",
    "    df = pd.read_csv(file_path)\n",
    "    X = df.drop('target', axis=1)\n",
    "    y = df['target']\n",
    "    return X, y\n",
    "\n",
    "# --- Đọc các tập dữ liệu ---\n",
    "print(\"Đang đọc dữ liệu...\")"
   ]
  },
  {
   "cell_type": "markdown",
   "metadata": {
    "id": "3NGEqr_quUqY"
   },
   "source": [
    "## 2.1 Dataset"
   ]
  },
  {
   "cell_type": "code",
   "execution_count": null,
   "metadata": {
    "colab": {
     "base_uri": "https://localhost:8080/"
    },
    "id": "Q6oM3b7ruzIk",
    "outputId": "8795c81d-9986-4923-ba31-301508cac164"
   },
   "outputs": [],
   "source": [
    "# Load all datasets\n",
    "X_train, y_train = read_csv('splits/raw_train.csv')\n",
    "X_val, y_val = read_csv('splits/raw_val.csv')\n",
    "X_test, y_test = read_csv('splits/raw_test.csv')\n",
    "\n",
    "X_fe_train, y_fe_train = read_csv('splits/fe_train.csv')\n",
    "X_fe_val, y_fe_val = read_csv('splits/fe_val.csv')\n",
    "X_fe_test, y_fe_test = read_csv('splits/fe_test.csv')\n",
    "\n",
    "X_dt_train, y_dt_train = read_csv('splits/dt_train.csv')\n",
    "X_dt_val, y_dt_val = read_csv('splits/dt_val.csv')\n",
    "X_dt_test, y_dt_test = read_csv('splits/dt_test.csv')\n",
    "\n",
    "X_fe_dt_train, y_fe_dt_train = read_csv('splits/fe_dt_train.csv')\n",
    "X_fe_dt_val, y_fe_dt_val = read_csv('splits/fe_dt_val.csv')\n",
    "X_fe_dt_test, y_fe_dt_test = read_csv('splits/fe_dt_test.csv')"
   ]
  },
  {
   "cell_type": "markdown",
   "metadata": {
    "id": "j96-ETAXu2QR"
   },
   "source": [
    "# 3.AdaBoost (AB)"
   ]
  },
  {
   "cell_type": "code",
   "execution_count": null,
   "metadata": {
    "id": "Dovf7p2cu13b"
   },
   "outputs": [],
   "source": [
    "# --- Gradient Boosting Functions ---\n",
    "\n",
    "def find_optimal_gb(\n",
    "    X_train, y_train,\n",
    "    n_estimators_range=range(50, 501, 50),\n",
    "    cv_splits=3\n",
    "):\n",
    "    \"\"\"\n",
    "    Hàm tìm số lượng cây con (n_estimators) tối ưu cho Gradient Boosting.\n",
    "    \"\"\"\n",
    "    cv = StratifiedKFold(n_splits=cv_splits, shuffle=True, random_state=SEED)\n",
    "    scores = []\n",
    "\n",
    "    for n in n_estimators_range:\n",
    "        gb = GradientBoostingClassifier(\n",
    "            n_estimators=n,\n",
    "            learning_rate=0.1,\n",
    "            max_depth=5,\n",
    "            subsample=1.0,\n",
    "            random_state=SEED\n",
    "        )\n",
    "        cv_score = cross_val_score(\n",
    "            gb, X_train, y_train, cv=cv, scoring='accuracy', n_jobs=-1\n",
    "        )\n",
    "        scores.append(cv_score.mean())\n",
    "\n",
    "    best_n = list(n_estimators_range)[int(np.argmax(scores))]\n",
    "    print(f\"n_estimators tối ưu (CV): {best_n}\")\n",
    "\n",
    "    # Vẽ biểu đồ\n",
    "    plt.figure(figsize=(10, 6))\n",
    "    plt.plot(list(n_estimators_range), scores, 'bo-')\n",
    "    plt.title(f'Chọn n_estimators tối ưu cho Gradient Boosting (CV={cv_splits}-fold)')\n",
    "    plt.xlabel('n_estimators')\n",
    "    plt.ylabel('Cross-Validation Accuracy')\n",
    "    plt.grid(True)\n",
    "    plt.show()\n",
    "\n",
    "    # Train lại với toàn bộ X_train\n",
    "    best_model = GradientBoostingClassifier(\n",
    "        n_estimators=best_n,\n",
    "        learning_rate=0.1,\n",
    "        max_depth=5,\n",
    "        subsample=1.0,\n",
    "        random_state=SEED\n",
    "    )\n",
    "    best_model.fit(X_train, y_train)\n",
    "    return best_model, best_n, max(scores)\n",
    "\n",
    "\n",
    "def evaluate_val_gb(\n",
    "    X_train, y_train, X_val, y_val,\n",
    "    n_estimators_range=range(50, 501, 50),\n",
    "    cv_splits=3\n",
    "):\n",
    "    \"\"\"\n",
    "    Hàm huấn luyện và đánh giá Gradient Boosting trên tập validation.\n",
    "    \"\"\"\n",
    "    print(\"\\n\" + \"=\"*50)\n",
    "    print(\"Tìm n_estimators tối ưu cho Gradient Boosting...\")\n",
    "    gb_model, best_n, cv_acc = find_optimal_gb(\n",
    "        X_train, y_train,\n",
    "        n_estimators_range=n_estimators_range,\n",
    "        cv_splits=cv_splits\n",
    "    )\n",
    "\n",
    "    val_pred = gb_model.predict(X_val)\n",
    "    val_acc = accuracy_score(y_val, val_pred)\n",
    "    print(f\"\\nĐộ chính xác GB trên tập validation: {val_acc:.4f}\")\n",
    "    print(\"Classification Report:\")\n",
    "    print(classification_report(y_val, val_pred))\n",
    "    return gb_model, val_acc, {\"n_estimators\": best_n}\n",
    "\n",
    "\n",
    "def evaluate_test_gb(gb_model, X_test, y_test):\n",
    "    \"\"\"\n",
    "    Hàm đánh giá Gradient Boosting trên tập test.\n",
    "    \"\"\"\n",
    "    test_pred = gb_model.predict(X_test)\n",
    "    test_acc = accuracy_score(y_test, test_pred)\n",
    "    print(f\"\\nĐộ chính xác GB trên tập test: {test_acc:.4f}\")\n",
    "    print(\"Classification Report:\")\n",
    "    print(classification_report(y_test, test_pred))\n",
    "    return test_acc\n"
   ]
  },
  {
   "cell_type": "markdown",
   "metadata": {
    "id": "Q_ZZZx4dvcdB"
   },
   "source": [
    "## 3.1 AB on Original Dataset"
   ]
  },
  {
   "cell_type": "code",
   "execution_count": null,
   "metadata": {
    "colab": {
     "base_uri": "https://localhost:8080/",
     "height": 1000
    },
    "id": "XHJrJYjxverF",
    "outputId": "b9bddea1-4d04-403d-c1b6-5e8e6c49d703"
   },
   "outputs": [],
   "source": [
    "# 1. Trên bộ Original\n",
    "gb_model, val_acc, best_params = evaluate_val_gb(\n",
    "    X_train, y_train, X_val, y_val\n",
    ")\n",
    "test_acc = evaluate_test_gb(gb_model, X_test, y_test)"
   ]
  },
  {
   "cell_type": "markdown",
   "metadata": {
    "id": "4FRHi-ADvzSR"
   },
   "source": [
    "## 3.2 AB on FE Dataset"
   ]
  },
  {
   "cell_type": "code",
   "execution_count": null,
   "metadata": {
    "colab": {
     "base_uri": "https://localhost:8080/",
     "height": 1000
    },
    "id": "W1HfLwT_vnjk",
    "outputId": "8eb6ecd7-207e-424c-93cb-fdaa6babffd6"
   },
   "outputs": [],
   "source": [
    "# 2. Trên bộ Feature Engineering (FE)\n",
    "gb_model, val_fe_acc, best_params = evaluate_val_gb(\n",
    "    X_fe_train, y_fe_train, X_fe_val, y_fe_val\n",
    ")\n",
    "test_fe_acc = evaluate_test_gb(gb_model, X_fe_test, y_fe_test)"
   ]
  },
  {
   "cell_type": "markdown",
   "metadata": {
    "id": "KYQasvhXv2JI"
   },
   "source": [
    "## 3.3 AB on Original DT Dataset"
   ]
  },
  {
   "cell_type": "code",
   "execution_count": null,
   "metadata": {
    "colab": {
     "base_uri": "https://localhost:8080/",
     "height": 1000
    },
    "id": "0Rnbi73uvpZ1",
    "outputId": "6a40d1e4-ec67-4bd1-9bd4-97be2d28d9f0"
   },
   "outputs": [],
   "source": [
    "# 3. Trên bộ Original + Decision Tree (DT)\n",
    "gb_model, val_dt_acc, best_params = evaluate_val_gb(\n",
    "    X_dt_train, y_dt_train, X_dt_val, y_dt_val\n",
    ")\n",
    "test_dt_acc = evaluate_test_gb(gb_model, X_dt_test, y_dt_test)\n"
   ]
  },
  {
   "cell_type": "markdown",
   "metadata": {
    "id": "mO1X_p6Rv5JC"
   },
   "source": [
    "## 3.4 AB on FE + DT Dataset"
   ]
  },
  {
   "cell_type": "code",
   "execution_count": null,
   "metadata": {
    "colab": {
     "base_uri": "https://localhost:8080/",
     "height": 1000
    },
    "id": "6fNBUDDdvrVA",
    "outputId": "f183ddc1-5359-4b0a-b1af-4e2430463f9a"
   },
   "outputs": [],
   "source": [
    "# 4. Trên bộ FE + DT\n",
    "gb_model, val_fe_dt_acc, best_params = evaluate_val_gb(\n",
    "    X_fe_dt_train, y_fe_dt_train, X_fe_dt_val, y_fe_dt_val\n",
    ")\n",
    "test_fe_dt_acc = evaluate_test_gb(gb_model, X_fe_dt_test, y_fe_dt_test)\n",
    "print(\"\\n\" + \"=\"*50)\n",
    "print(\"Đã hoàn tất huấn luyện và đánh giá trên 4 bộ dữ liệu.\")\n",
    "print(\"Đang vẽ biểu đồ tổng hợp...\")"
   ]
  },
  {
   "cell_type": "markdown",
   "metadata": {
    "id": "KO-vob1rv8jb"
   },
   "source": [
    "## 4.Result Visualization"
   ]
  },
  {
   "cell_type": "code",
   "execution_count": null,
   "metadata": {
    "colab": {
     "base_uri": "https://localhost:8080/",
     "height": 607
    },
    "id": "lgcpoailvthS",
    "outputId": "db436676-46ee-4189-8e82-4012c100e73c"
   },
   "outputs": [],
   "source": [
    "# --- Vẽ Biểu đồ So sánh ---\n",
    "\n",
    "plt.rcParams['font.family'] = 'Serif'\n",
    "\n",
    "labels = ['Original', 'FE', 'Original + DT', \"FE + DT\"]\n",
    "val_accs = [val_acc, val_fe_acc, val_dt_acc, val_fe_dt_acc]\n",
    "test_accs = [test_acc, test_fe_acc, test_dt_acc, test_fe_dt_acc]\n",
    "\n",
    "x = np.arange(len(labels))\n",
    "width = 0.3\n",
    "\n",
    "fig, ax = plt.subplots(figsize=(8, 6))\n",
    "\n",
    "rects1 = ax.bar(x - width/2, val_accs, width,\n",
    "                label='Validation Accuracy',\n",
    "                color='tab:blue', edgecolor='black', linewidth=1.2)\n",
    "rects2 = ax.bar(x + width/2, test_accs, width,\n",
    "                label='Test Accuracy',\n",
    "                color='tab:red', edgecolor='black', linewidth=1.2)\n",
    "\n",
    "ax.set_ylim(0.5, 1.05)\n",
    "ax.set_ylabel('Accuracy')\n",
    "ax.set_title('Gradient Boosting Performance', fontsize=16)\n",
    "ax.set_xticks(x)\n",
    "ax.set_xticklabels(labels)\n",
    "ax.legend(ncol=2, loc=\"upper center\")\n",
    "\n",
    "def autolabel(rects):\n",
    "    for rect in rects:\n",
    "        h = rect.get_height()\n",
    "        ax.annotate(f'{h:.2f}', xy=(rect.get_x() + rect.get_width() / 2, h),\n",
    "                    xytext=(0, 3),  # 3 points vertical offset\n",
    "                    textcoords=\"offset points\",\n",
    "                    ha='center', va='bottom')\n",
    "\n",
    "autolabel(rects1)\n",
    "autolabel(rects2)\n",
    "\n",
    "fig.tight_layout()\n",
    "plt.show()"
   ]
  },
  {
   "cell_type": "markdown",
   "metadata": {
    "id": "elCoo18Oykrn"
   },
   "source": [
    "# II.6 XGBoost"
   ]
  },
  {
   "cell_type": "code",
   "execution_count": null,
   "metadata": {
    "id": "pEVKyopcyurP"
   },
   "outputs": [],
   "source": [
    "# --- XGBoost Functions ---\n",
    "\n",
    "def find_optimal_xgb(\n",
    "    X_train, y_train,\n",
    "    n_estimators_range=range(50, 501, 50),\n",
    "    cv_splits=3,\n",
    "    learning_rate=0.1,\n",
    "    max_depth=5,\n",
    "    subsample=1.0,\n",
    "    use_gpu=False\n",
    "):\n",
    "    \"\"\"\n",
    "    Hàm tìm số lượng cây con (n_estimators) tối ưu cho XGBoost.\n",
    "    \"\"\"\n",
    "    cv = StratifiedKFold(n_splits=cv_splits, shuffle=True, random_state=SEED)\n",
    "    scores = []\n",
    "\n",
    "    # Xác định objective và eval_metric dựa trên số lớp\n",
    "    n_classes = len(np.unique(y_train))\n",
    "    objective = 'binary:logistic' if n_classes == 2 else 'multi:softprob'\n",
    "    eval_metric = 'logloss' if n_classes == 2 else 'mlogloss'\n",
    "\n",
    "    for n in n_estimators_range:\n",
    "        xgb = XGBClassifier(\n",
    "            n_estimators=n,\n",
    "            learning_rate=learning_rate,\n",
    "            max_depth=max_depth,\n",
    "            subsample=subsample,\n",
    "            objective=objective,\n",
    "            eval_metric=eval_metric,\n",
    "            random_state=SEED,\n",
    "            n_jobs=-1,\n",
    "            tree_method='gpu_hist' if use_gpu else 'hist',\n",
    "            verbosity=0\n",
    "        )\n",
    "        cv_score = cross_val_score(\n",
    "            xgb, X_train, y_train, cv=cv, scoring='accuracy', n_jobs=-1\n",
    "        )\n",
    "        scores.append(cv_score.mean())\n",
    "\n",
    "    best_n = list(n_estimators_range)[int(np.argmax(scores))]\n",
    "    print(f\"n_estimators tối ưu (CV): {best_n}\")\n",
    "\n",
    "    # Vẽ biểu đồ\n",
    "    plt.figure(figsize=(10, 6))\n",
    "    plt.plot(list(n_estimators_range), scores, 'bo-')\n",
    "    plt.title(f'Chọn n_estimators tối ưu cho XGBoost (CV={cv_splits}-fold)')\n",
    "    plt.xlabel('n_estimators')\n",
    "    plt.ylabel('Cross-Validation Accuracy')\n",
    "    plt.grid(True)\n",
    "    plt.show()\n",
    "\n",
    "    # Train lại với toàn bộ X_train\n",
    "    best_model = XGBClassifier(\n",
    "        n_estimators=best_n,\n",
    "        learning_rate=learning_rate,\n",
    "        max_depth=max_depth,\n",
    "        subsample=subsample,\n",
    "        objective=objective,\n",
    "        eval_metric=eval_metric,\n",
    "        random_state=SEED,\n",
    "        n_jobs=-1,\n",
    "        tree_method='gpu_hist' if use_gpu else 'hist',\n",
    "        verbosity=0\n",
    "    )\n",
    "    best_model.fit(X_train, y_train)\n",
    "    return best_model, best_n, max(scores)\n",
    "\n",
    "\n",
    "def evaluate_val_xgb(\n",
    "    X_train, y_train, X_val, y_val,\n",
    "    n_estimators_range=range(50, 501, 50),\n",
    "    cv_splits=3,\n",
    "    learning_rate=0.1,\n",
    "    max_depth=5,\n",
    "    subsample=1.0,\n",
    "    use_gpu=False\n",
    "):\n",
    "    \"\"\"\n",
    "    Hàm huấn luyện và đánh giá XGBoost trên tập validation.\n",
    "    \"\"\"\n",
    "    print(\"\\n\" + \"=\"*50)\n",
    "    print(\"Tìm n_estimators tối ưu cho XGBoost...\")\n",
    "    xgb_model, best_n, cv_acc = find_optimal_xgb(\n",
    "        X_train, y_train,\n",
    "        n_estimators_range=n_estimators_range,\n",
    "        cv_splits=cv_splits,\n",
    "        learning_rate=learning_rate,\n",
    "        max_depth=max_depth,\n",
    "        subsample=subsample,\n",
    "        use_gpu=use_gpu\n",
    "    )\n",
    "\n",
    "    val_pred = xgb_model.predict(X_val)\n",
    "    val_acc = accuracy_score(y_val, val_pred)\n",
    "    print(f\"\\nĐộ chính xác XGBoost trên tập validation: {val_acc:.4f}\")\n",
    "    print(\"Classification Report:\")\n",
    "    print(classification_report(y_val, val_pred))\n",
    "    return xgb_model, val_acc, {\"n_estimators\": best_n}\n",
    "\n",
    "\n",
    "def evaluate_test_xgb(xgb_model, X_test, y_test):\n",
    "    \"\"\"\n",
    "    Hàm đánh giá XGBoost trên tập test.\n",
    "    \"\"\"\n",
    "    test_pred = xgb_model.predict(X_test)\n",
    "    test_acc = accuracy_score(y_test, test_pred)\n",
    "    print(f\"\\nĐộ chính xác XGBoost trên tập test: {test_acc:.4f}\")\n",
    "    print(\"Classification Report:\")\n",
    "    print(classification_report(y_test, test_pred))\n",
    "    return test_acc\n"
   ]
  },
  {
   "cell_type": "markdown",
   "metadata": {
    "id": "6ZBSp9p2zXQn"
   },
   "source": [
    "# 3.1 AB on Original Dataset"
   ]
  },
  {
   "cell_type": "code",
   "execution_count": null,
   "metadata": {
    "colab": {
     "base_uri": "https://localhost:8080/",
     "height": 1000
    },
    "id": "tkvN4RsEzQcd",
    "outputId": "dd021e30-035e-42e4-e1c6-40a4747586da"
   },
   "outputs": [],
   "source": [
    "# 1. Trên bộ Original\n",
    "xgb_model, val_acc, best_params = evaluate_val_xgb(\n",
    "    X_train, y_train, X_val, y_val\n",
    ")\n",
    "test_acc = evaluate_test_xgb(xgb_model, X_test, y_test)"
   ]
  },
  {
   "cell_type": "markdown",
   "metadata": {
    "id": "zqmOn1jYzfMx"
   },
   "source": [
    "# 3.2 AB on FE Dataset"
   ]
  },
  {
   "cell_type": "code",
   "execution_count": null,
   "metadata": {
    "colab": {
     "base_uri": "https://localhost:8080/",
     "height": 1000
    },
    "id": "cxENEVbxziGp",
    "outputId": "af7fe40d-4ed7-4b79-b9fc-e11947bfe067"
   },
   "outputs": [],
   "source": [
    "# 2. Trên bộ Feature Engineering (FE)\n",
    "xgb_model, val_fe_acc, best_params = evaluate_val_xgb(\n",
    "    X_fe_train, y_fe_train, X_fe_val, y_fe_val\n",
    ")\n",
    "test_fe_acc = evaluate_test_xgb(xgb_model, X_fe_test, y_fe_test)\n"
   ]
  },
  {
   "cell_type": "markdown",
   "metadata": {
    "id": "RmNK2k13zihJ"
   },
   "source": [
    "# 3.3 AB on Original DT Dataset"
   ]
  },
  {
   "cell_type": "code",
   "execution_count": null,
   "metadata": {
    "colab": {
     "base_uri": "https://localhost:8080/",
     "height": 1000
    },
    "id": "MCd4FNf3zmPo",
    "outputId": "46bdf9ab-b90f-4b17-83bd-631497c3b7a4"
   },
   "outputs": [],
   "source": [
    "# 3. Trên bộ Original + Decision Tree (DT)\n",
    "xgb_model, val_dt_acc, best_params = evaluate_val_xgb(\n",
    "    X_dt_train, y_dt_train, X_dt_val, y_dt_val\n",
    ")\n",
    "test_dt_acc = evaluate_test_xgb(xgb_model, X_dt_test, y_dt_test)\n"
   ]
  },
  {
   "cell_type": "markdown",
   "metadata": {
    "id": "bggCmpvYzl3Q"
   },
   "source": [
    "# 3.4 AB on FE + DT Dataset"
   ]
  },
  {
   "cell_type": "code",
   "execution_count": null,
   "metadata": {
    "colab": {
     "base_uri": "https://localhost:8080/",
     "height": 1000
    },
    "id": "kcJize_hzq6y",
    "outputId": "bb0915df-399b-406f-a069-2f6f82ca426f"
   },
   "outputs": [],
   "source": [
    "# 4. Trên bộ FE + DT\n",
    "xgb_model, val_fe_dt_acc, best_params = evaluate_val_xgb(\n",
    "    X_fe_dt_train, y_fe_dt_train, X_fe_dt_val, y_fe_dt_val\n",
    ")\n",
    "test_fe_dt_acc = evaluate_test_xgb(xgb_model, X_fe_dt_test, y_fe_dt_test)\n",
    "print(\"\\n\" + \"=\"*50)\n",
    "print(\"Đã hoàn tất huấn luyện và đánh giá trên 4 bộ dữ liệu.\")\n",
    "print(\"Đang vẽ biểu đồ tổng hợp...\")\n"
   ]
  },
  {
   "cell_type": "markdown",
   "metadata": {
    "id": "r4zJMz3xzs7V"
   },
   "source": [
    "# 4.Result Visualization XGBoost"
   ]
  },
  {
   "cell_type": "markdown",
   "metadata": {},
   "source": []
  },
  {
   "cell_type": "code",
   "execution_count": null,
   "metadata": {
    "colab": {
     "base_uri": "https://localhost:8080/",
     "height": 607
    },
    "id": "5UzoVPcjz6G0",
    "outputId": "bc55845d-1552-405d-a458-65072dc94574"
   },
   "outputs": [],
   "source": [
    "# --- Vẽ Biểu đồ So sánh ---\n",
    "\n",
    "plt.rcParams['font.family'] = 'Serif'\n",
    "\n",
    "labels = ['Original', 'FE', 'Original + DT', \"FE + DT\"]\n",
    "val_accs = [val_acc, val_fe_acc, val_dt_acc, val_fe_dt_acc]\n",
    "test_accs = [test_acc, test_fe_acc, test_dt_acc, test_fe_dt_acc]\n",
    "\n",
    "x = np.arange(len(labels))\n",
    "width = 0.3\n",
    "\n",
    "fig, ax = plt.subplots(figsize=(8, 6))\n",
    "\n",
    "rects1 = ax.bar(x - width/2, val_accs, width,\n",
    "                label='Validation Accuracy',\n",
    "                color='tab:blue', edgecolor='black', linewidth=1.2)\n",
    "rects2 = ax.bar(x + width/2, test_accs, width,\n",
    "                label='Test Accuracy',\n",
    "                color='tab:red', edgecolor='black', linewidth=1.2)\n",
    "\n",
    "ax.set_ylim(0.5, 1.05)\n",
    "ax.set_ylabel('Accuracy')\n",
    "ax.set_title('XGBoost Performance', fontsize=16)\n",
    "ax.set_xticks(x)\n",
    "ax.set_xticklabels(labels)\n",
    "ax.legend(ncol=2, loc=\"upper center\")\n",
    "\n",
    "def autolabel(rects):\n",
    "    for rect in rects:\n",
    "        h = rect.get_height()\n",
    "        ax.annotate(f'{h:.2f}', xy=(rect.get_x() + rect.get_width() / 2, h),\n",
    "                    xytext=(0, 3),  # 3 points vertical offset\n",
    "                    textcoords=\"offset points\",\n",
    "                    ha='center', va='bottom')\n",
    "\n",
    "autolabel(rects1)\n",
    "autolabel(rects2)\n",
    "\n",
    "fig.tight_layout()\n",
    "plt.show()"
   ]
  }
 ],
 "metadata": {
  "colab": {
   "provenance": []
  },
  "kernelspec": {
   "display_name": ".venv (3.13.1)",
   "language": "python",
   "name": "python3"
  },
  "language_info": {
   "codemirror_mode": {
    "name": "ipython",
    "version": 3
   },
   "file_extension": ".py",
   "mimetype": "text/x-python",
   "name": "python",
   "nbconvert_exporter": "python",
   "pygments_lexer": "ipython3",
   "version": "3.13.1"
  }
 },
 "nbformat": 4,
 "nbformat_minor": 0
}
